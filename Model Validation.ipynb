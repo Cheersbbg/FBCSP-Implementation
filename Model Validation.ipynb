{
 "cells": [
  {
   "cell_type": "code",
   "execution_count": 2,
   "id": "f6fffd25-40dc-4760-b129-0860a4f528b1",
   "metadata": {},
   "outputs": [],
   "source": [
    "%load_ext autoreload\n",
    "%autoreload 2"
   ]
  },
  {
   "cell_type": "code",
   "execution_count": 1,
   "id": "d29625a6-0b61-4fac-8e4e-992d214be4e9",
   "metadata": {},
   "outputs": [],
   "source": [
    "from src import loaders,preprocessing,CSP,classifier\n",
    "\n",
    "import numpy as np\n",
    "np.set_printoptions(suppress = True)\n",
    "\n",
    "import matplotlib.pyplot as plt\n",
    "from sklearn.svm import SVC\n",
    "\n",
    "from tqdm import tqdm\n"
   ]
  },
  {
   "cell_type": "markdown",
   "id": "1b1ef974-8acf-4e3f-950f-bb7d343967f7",
   "metadata": {},
   "source": [
    "### Testing FBCSP Classifier with MIBIF Feature Extraction and OvR Classification to see if our implementation matches with Ang et. al (2012)"
   ]
  },
  {
   "cell_type": "markdown",
   "id": "f2d1204f-dc38-4ea1-bd59-182ded929096",
   "metadata": {},
   "source": [
    "Starting up the trials run slower for some reason, but they eventually speed up and get to 1.7seconds ish per iteration"
   ]
  },
  {
   "cell_type": "code",
   "execution_count": 10,
   "id": "39a8dcb6-4fbd-45ab-9b00-daf16ae1550f",
   "metadata": {},
   "outputs": [
    {
     "name": "stdout",
     "output_type": "stream",
     "text": [
      "Running experiments for subject 1\n"
     ]
    },
    {
     "name": "stderr",
     "output_type": "stream",
     "text": [
      "100%|██████████████████████████████████████████████████████████████████████████████████| 10/10 [00:15<00:00,  1.54s/it]\n"
     ]
    },
    {
     "name": "stdout",
     "output_type": "stream",
     "text": [
      "\n",
      "\n",
      "Running experiments for subject 2\n"
     ]
    },
    {
     "name": "stderr",
     "output_type": "stream",
     "text": [
      "100%|██████████████████████████████████████████████████████████████████████████████████| 10/10 [00:16<00:00,  1.62s/it]\n"
     ]
    },
    {
     "name": "stdout",
     "output_type": "stream",
     "text": [
      "\n",
      "\n",
      "Running experiments for subject 3\n"
     ]
    },
    {
     "name": "stderr",
     "output_type": "stream",
     "text": [
      "100%|██████████████████████████████████████████████████████████████████████████████████| 10/10 [00:17<00:00,  1.76s/it]\n"
     ]
    },
    {
     "name": "stdout",
     "output_type": "stream",
     "text": [
      "\n",
      "\n",
      "Running experiments for subject 4\n"
     ]
    },
    {
     "name": "stderr",
     "output_type": "stream",
     "text": [
      "100%|██████████████████████████████████████████████████████████████████████████████████| 10/10 [00:16<00:00,  1.61s/it]\n"
     ]
    },
    {
     "name": "stdout",
     "output_type": "stream",
     "text": [
      "\n",
      "\n",
      "Running experiments for subject 5\n"
     ]
    },
    {
     "name": "stderr",
     "output_type": "stream",
     "text": [
      "100%|██████████████████████████████████████████████████████████████████████████████████| 10/10 [00:17<00:00,  1.72s/it]\n"
     ]
    },
    {
     "name": "stdout",
     "output_type": "stream",
     "text": [
      "\n",
      "\n",
      "Running experiments for subject 6\n"
     ]
    },
    {
     "name": "stderr",
     "output_type": "stream",
     "text": [
      "100%|██████████████████████████████████████████████████████████████████████████████████| 10/10 [00:13<00:00,  1.39s/it]\n"
     ]
    },
    {
     "name": "stdout",
     "output_type": "stream",
     "text": [
      "\n",
      "\n",
      "Running experiments for subject 7\n"
     ]
    },
    {
     "name": "stderr",
     "output_type": "stream",
     "text": [
      "100%|██████████████████████████████████████████████████████████████████████████████████| 10/10 [00:17<00:00,  1.71s/it]\n"
     ]
    },
    {
     "name": "stdout",
     "output_type": "stream",
     "text": [
      "\n",
      "\n",
      "Running experiments for subject 8\n"
     ]
    },
    {
     "name": "stderr",
     "output_type": "stream",
     "text": [
      "100%|██████████████████████████████████████████████████████████████████████████████████| 10/10 [00:16<00:00,  1.70s/it]\n"
     ]
    },
    {
     "name": "stdout",
     "output_type": "stream",
     "text": [
      "\n",
      "\n",
      "Running experiments for subject 9\n"
     ]
    },
    {
     "name": "stderr",
     "output_type": "stream",
     "text": [
      "100%|██████████████████████████████████████████████████████████████████████████████████| 10/10 [00:14<00:00,  1.46s/it]"
     ]
    },
    {
     "name": "stdout",
     "output_type": "stream",
     "text": [
      "\n",
      "\n"
     ]
    },
    {
     "name": "stderr",
     "output_type": "stream",
     "text": [
      "\n"
     ]
    }
   ],
   "source": [
    "#How many times we want to run the experiment per subject\n",
    "n_times = 10\n",
    "subject_nos = np.arange(1,10)\n",
    "\n",
    "fs = 250\n",
    "frequency_bands = [[f,f+4] for f in range(4,40,4)]\n",
    "\n",
    "#Computing this only once to save compute time\n",
    "filter_bank_coefficients = preprocessing.compute_filter_bank_coefficients(fs,frequency_bands)\n",
    "\n",
    "mean_subject_accuracies = []\n",
    "standard_errors_acc = []\n",
    "\n",
    "\n",
    "\n",
    "for subject_no in subject_nos:\n",
    "\n",
    "    print(f'Running experiments for subject {subject_no}')\n",
    "\n",
    "    \n",
    "    trials,labels = loaders.extract_motor_imagery_trials(subject_no)\n",
    "\n",
    "\n",
    "    filter_bank_trials = preprocessing.filter_bank_trials(trials,fs,filter_bank_coefficients)\n",
    "    \n",
    "    evaluation_trials,evaluation_labels = loaders.load_evaluation_trials(subject_no)\n",
    "    filter_bank_eval = preprocessing.filter_bank_trials(evaluation_trials,fs,filter_bank_coefficients)\n",
    "\n",
    "    cur_experiment_evaluation_accuracies = []\n",
    "\n",
    "    for i in tqdm(range(n_times)):\n",
    "        base_classifier = SVC(kernel = 'linear',probability = True, C = 0.01)\n",
    "\n",
    "        classifiers,spatial_filters,mibif_indices = classifier.train_classifier(\n",
    "                                            filter_bank_trials,\n",
    "                                            labels,\n",
    "                                            base_classifier = base_classifier,\n",
    "                                            mode = 'MIBIF')\n",
    "        \n",
    "        evaluation_predictions = classifier.make_predictions(\n",
    "                                    filter_bank_eval,\n",
    "                                    classifiers,\n",
    "                                    spatial_filters,\n",
    "                                    mibif_indices = mibif_indices,\n",
    "                                    mode = 'MIBIF')\n",
    "        \n",
    "        evaluation_accuracy = np.sum(evaluation_predictions == evaluation_labels) / len(evaluation_labels)\n",
    "        cur_experiment_evaluation_accuracies.append(evaluation_accuracy)\n",
    "\n",
    "    cur_subject_acc_se = np.std(cur_experiment_evaluation_accuracies) / np.sqrt(n_times)\n",
    "    standard_errors_acc.append(cur_subject_acc_se)\n",
    "    \n",
    "    mean_eval_accuracy = np.mean(cur_experiment_evaluation_accuracies)\n",
    "    mean_subject_accuracies.append(mean_eval_accuracy)\n",
    "\n",
    "    \n",
    "    print('\\n')"
   ]
  },
  {
   "cell_type": "code",
   "execution_count": 12,
   "id": "4b83f286-2301-4b4f-b7fb-33c2b991b399",
   "metadata": {},
   "outputs": [
    {
     "data": {
      "text/plain": [
       "{'Subject 1': 0.6336805555555556,\n",
       " 'Subject 2': 0.42777777777777776,\n",
       " 'Subject 3': 0.6791666666666666,\n",
       " 'Subject 4': 0.42847222222222225,\n",
       " 'Subject 5': 0.40763888888888883,\n",
       " 'Subject 6': 0.38506944444444446,\n",
       " 'Subject 7': 0.7177083333333333,\n",
       " 'Subject 8': 0.8017361111111111,\n",
       " 'Subject 9': 0.7364583333333332}"
      ]
     },
     "execution_count": 12,
     "metadata": {},
     "output_type": "execute_result"
    }
   ],
   "source": [
    "subject_accuracy_dict = dict(zip([f'Subject {subject_no}' for subject_no in subject_nos],mean_subject_accuracies))\n",
    "subject_accuracy_dict"
   ]
  },
  {
   "cell_type": "code",
   "execution_count": 13,
   "id": "11ccd806-9901-4d1c-baec-649d2f212a23",
   "metadata": {},
   "outputs": [
    {
     "data": {
      "text/plain": [
       "0.5797453703703703"
      ]
     },
     "execution_count": 13,
     "metadata": {},
     "output_type": "execute_result"
    }
   ],
   "source": [
    "mean_across_subjects = np.mean(mean_subject_accuracies)\n",
    "mean_across_subjects"
   ]
  },
  {
   "cell_type": "markdown",
   "id": "a7c42b70-a7e3-4f02-a727-5a81bce6d26a",
   "metadata": {},
   "source": [
    "In Ang. et al. the mean accuracy across subjects for the evaluation datasets on dataset 2a was 0.569.\n",
    "\n",
    "Subtle variations probobably occur as we did not do hyper-parameter tuning per SVC model for each subject, and we did not use their specialized Naive Baye's model in their original paper (Support Vector Classifier works just as good too). To compare the subject wise accuracies as well, consult table 2 in Ang et al. (2012) in their paper titled \"Filter bank common spatial pattern algorithmon BCIcompetition IV Datasets2a and 2b\". Either way, our implementation matches up with their results rather well\n",
    "\n",
    "i"
   ]
  },
  {
   "cell_type": "code",
   "execution_count": 14,
   "id": "348b9aac-24b8-4ee2-8cb6-70547c15ab69",
   "metadata": {},
   "outputs": [
    {
     "data": {
      "text/plain": [
       "{'Subject 1': 0.0010123180372995277,\n",
       " 'Subject 2': 0.0008216777476527275,\n",
       " 'Subject 3': 0.0007283394778959359,\n",
       " 'Subject 4': 0.0010063456073742707,\n",
       " 'Subject 5': 0.001568276359810584,\n",
       " 'Subject 6': 0.002109214242845477,\n",
       " 'Subject 7': 0.0027362344867840937,\n",
       " 'Subject 8': 0.0012471031247269439,\n",
       " 'Subject 9': 0.0012471031247269515}"
      ]
     },
     "execution_count": 14,
     "metadata": {},
     "output_type": "execute_result"
    }
   ],
   "source": [
    "subject_se_acc_dict = dict(zip([f'Subject {subject_no}' for subject_no in subject_nos],standard_errors_acc))\n",
    "subject_se_acc_dict"
   ]
  }
 ],
 "metadata": {
  "kernelspec": {
   "display_name": "eeg",
   "language": "python",
   "name": "eeg"
  },
  "language_info": {
   "codemirror_mode": {
    "name": "ipython",
    "version": 3
   },
   "file_extension": ".py",
   "mimetype": "text/x-python",
   "name": "python",
   "nbconvert_exporter": "python",
   "pygments_lexer": "ipython3",
   "version": "3.11.7"
  }
 },
 "nbformat": 4,
 "nbformat_minor": 5
}
