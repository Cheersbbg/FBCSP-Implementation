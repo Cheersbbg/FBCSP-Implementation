{
 "cells": [
  {
   "cell_type": "code",
   "execution_count": 262,
   "id": "02c94003-3243-495b-8afc-35a154886b04",
   "metadata": {},
   "outputs": [
    {
     "name": "stdout",
     "output_type": "stream",
     "text": [
      "The autoreload extension is already loaded. To reload it, use:\n",
      "  %reload_ext autoreload\n"
     ]
    }
   ],
   "source": [
    "%load_ext autoreload\n",
    "%autoreload 2"
   ]
  },
  {
   "cell_type": "code",
   "execution_count": 263,
   "id": "727dea9b-0893-4236-9f31-54af4636d057",
   "metadata": {},
   "outputs": [],
   "source": [
    "from src import classifier,preprocessing,loaders,augmentation,cleaning,CSP\n",
    "\n",
    "from sklearn.model_selection import KFold,LeaveOneOut\n",
    "from sklearn.svm import SVC\n",
    "\n",
    "from tqdm import tqdm\n",
    "\n",
    "import numpy as np\n",
    "\n",
    "import matplotlib.pyplot as plt\n",
    "\n",
    "import statsmodels.api as sm\n",
    "\n",
    "from scipy.signal import welch\n",
    "\n",
    "from tqdm import tqdm\n",
    "\n",
    "import mne"
   ]
  },
  {
   "cell_type": "code",
   "execution_count": 331,
   "id": "70cb22ca-e36e-4df8-a205-df7d11877988",
   "metadata": {},
   "outputs": [
    {
     "name": "stderr",
     "output_type": "stream",
     "text": [
      "100%|██████████████████████████████████████████████████████████████████████████████████| 21/21 [17:38<00:00, 50.40s/it]\n"
     ]
    }
   ],
   "source": [
    "sigma_accuracy_dict = {}\n",
    "sigma_csp_objective_dict = {}\n",
    "\n",
    "\n",
    "sigma_vals = np.linspace(start = 0.3,stop = 1,num = 21)\n",
    "\n",
    "for sigma in tqdm(sigma_vals):\n",
    "    \n",
    "    fs = 250\n",
    "    l_freq = 8\n",
    "    h_freq = 30\n",
    "    \n",
    "    mean_spatial_filter_objectives = []\n",
    "    subject_test_fold_accuracies = []\n",
    "    \n",
    "    subject_nos = np.arange(1,10)\n",
    "    \n",
    "    n_times = 1\n",
    "    \n",
    "    spatial_filter_objectives = []\n",
    "    test_fold_accuracies = []\n",
    "    \n",
    "        \n",
    "    for subject_no in subject_nos:\n",
    "        \n",
    "        mne.set_log_level('ERROR')\n",
    "        \n",
    "        trials,labels = loaders.extract_motor_imagery_trials(subject_no)\n",
    "        \n",
    "        ovr_labels = preprocessing.create_ovr_dataset(labels)\n",
    "        for binary_labels in ovr_labels:\n",
    "    \n",
    "            kf = KFold(n_splits = 5)\n",
    "            train_test_splits = kf.split(trials,binary_labels)\n",
    "                \n",
    "            for train_indices,test_indices in train_test_splits:\n",
    "    \n",
    "                    \n",
    "                #Splitting into train and test trials\n",
    "                train_trials,test_trials = trials[train_indices],trials[test_indices]\n",
    "                train_labels,test_labels = binary_labels[train_indices],binary_labels[test_indices]\n",
    "                \n",
    "                n_trials_to_augment = int(len(train_trials) * 0.2)\n",
    "                train_trials,train_labels = augmentation.augment_with_wavelet_smooth_D2(\n",
    "                    trials = train_trials,\n",
    "                    labels = train_labels,\n",
    "                    n_trials_to_augment = n_trials_to_augment,\n",
    "                    sigma = sigma\n",
    "                )\n",
    "                    \n",
    "                #Shuffling trials to remvove temporal dependencies that could be learned during training\n",
    "                preprocessing.shuffle_trials_and_labels(train_trials,train_labels)\n",
    "                preprocessing.shuffle_trials_and_labels(test_trials,test_labels)\n",
    "                    \n",
    "                #Bandpass filtering into mu and beta rhyths\n",
    "                #train_trials = preprocessing.bandpass_filter_trials(train_trials,fs,l_freq,h_freq)\n",
    "                #test_trials = preprocessing.bandpass_filter_trials(test_trials,fs,l_freq,h_freq)\n",
    "                    \n",
    "                #Learning CSP spatial filter with training data and labels\n",
    "                spatial_filters,eigvals = CSP.get_spatial_filters(train_trials,train_labels,return_eigvals = True)\n",
    "                spatial_filters /= np.linalg.norm(spatial_filters)\n",
    "                    \n",
    "                spatial_filters_discriminability = eigvals[0]/eigvals[-1]        \n",
    "            \n",
    "                log_var_features = CSP.get_log_var_csp_features(train_trials,spatial_filters)\n",
    "    \n",
    "                    \n",
    "                #training classifier with log variance CSP features\n",
    "                classif = SVC(kernel = 'linear')\n",
    "                classif.fit(log_var_features,train_labels)\n",
    "                                \n",
    "                train_accuracy = classif.score(log_var_features,train_labels)\n",
    "                    \n",
    "                #Using spatial filter learned from CSP data to get test features\n",
    "                test_log_var_features = CSP.get_log_var_csp_features(test_trials,spatial_filters)\n",
    "                test_accuracy = classif.score(test_log_var_features,test_labels)\n",
    "                \n",
    "                spatial_filter_objectives.append(spatial_filters_discriminability)\n",
    "                test_fold_accuracies.append(test_accuracy)\n",
    "            \n",
    "            mean_csp_objective = np.mean(spatial_filter_objectives)\n",
    "            mean_test_accuracy = np.mean(test_fold_accuracies)\n",
    "            \n",
    "            mean_spatial_filter_objectives.append(mean_csp_objective)\n",
    "            subject_test_fold_accuracies.append(mean_test_accuracy)\n",
    "\n",
    "    sigma_accuracy_dict.update({\n",
    "        sigma:np.mean(subject_test_fold_accuracies)\n",
    "    })\n",
    "\n",
    "    sigma_csp_objective_dict.update({\n",
    "        sigma:np.mean(mean_spatial_filter_objectives)\n",
    "    })"
   ]
  },
  {
   "cell_type": "code",
   "execution_count": 332,
   "id": "7cdbd83a-42b5-45c0-b88b-b617bbe9e9ee",
   "metadata": {},
   "outputs": [],
   "source": [
    "sigmas = list(sigma_csp_objective_dict.keys())\n",
    "objectives = list(sigma_csp_objective_dict.values())"
   ]
  },
  {
   "cell_type": "code",
   "execution_count": 333,
   "id": "f631c24a-2d6f-4862-9d46-cd750963ab3b",
   "metadata": {},
   "outputs": [
    {
     "data": {
      "text/plain": [
       "0.3888744150432228"
      ]
     },
     "execution_count": 333,
     "metadata": {},
     "output_type": "execute_result"
    }
   ],
   "source": [
    "np.corrcoef(sigmas,objectives)[0][1]"
   ]
  },
  {
   "cell_type": "code",
   "execution_count": null,
   "id": "7c3995ed-2f87-44b7-8b44-568ff801fdb5",
   "metadata": {},
   "outputs": [],
   "source": [
    "plt.scatter(sigmas,objectives)"
   ]
  },
  {
   "cell_type": "code",
   "execution_count": null,
   "id": "e6144618-a079-4fed-a00b-4629cb1c30a1",
   "metadata": {},
   "outputs": [],
   "source": []
  },
  {
   "cell_type": "code",
   "execution_count": null,
   "id": "9363281b-b59b-43a3-be5c-c722846b3404",
   "metadata": {},
   "outputs": [],
   "source": []
  },
  {
   "cell_type": "code",
   "execution_count": 312,
   "id": "f5ac87f6-76cb-4bae-b16f-b9e7c3823a5c",
   "metadata": {},
   "outputs": [
    {
     "data": {
      "text/plain": [
       "0.946887977045465"
      ]
     },
     "execution_count": 312,
     "metadata": {},
     "output_type": "execute_result"
    }
   ],
   "source": [
    "np.corrcoef(mean_spatial_filter_objectives,subject_test_fold_accuracies)[0][1]"
   ]
  },
  {
   "cell_type": "code",
   "execution_count": 313,
   "id": "c3fb0191-8616-4ec2-98de-e4a95e8cac9b",
   "metadata": {},
   "outputs": [
    {
     "data": {
      "image/png": "[encoded data removed]",
      "text/plain": [
       "<Figure size 640x480 with 1 Axes>"
      ]
     },
     "metadata": {},
     "output_type": "display_data"
    }
   ],
   "source": [
    "plt.scatter(mean_spatial_filter_objectives,subject_test_fold_accuracies);"
   ]
  },
  {
   "cell_type": "code",
   "execution_count": null,
   "id": "fec159e1-5b60-457c-86ed-eb6baf30f8a3",
   "metadata": {},
   "outputs": [],
   "source": []
  },
  {
   "cell_type": "code",
   "execution_count": null,
   "id": "c6d3b394-b548-4ce7-986e-d206e48820ad",
   "metadata": {},
   "outputs": [],
   "source": []
  },
  {
   "cell_type": "code",
   "execution_count": null,
   "id": "236ca06a-e764-402c-8358-2fd72f286c8a",
   "metadata": {},
   "outputs": [],
   "source": []
  },
  {
   "cell_type": "code",
   "execution_count": null,
   "id": "dff828cc-48b8-4266-82b1-c845fcdc491f",
   "metadata": {},
   "outputs": [],
   "source": []
  },
  {
   "cell_type": "code",
   "execution_count": null,
   "id": "d58d155f-49a4-4ccb-a820-27d28a80e2d3",
   "metadata": {},
   "outputs": [],
   "source": []
  }
 ],
 "metadata": {
  "kernelspec": {
   "display_name": "eeg",
   "language": "python",
   "name": "eeg"
  },
  "language_info": {
   "codemirror_mode": {
    "name": "ipython",
    "version": 3
   },
   "file_extension": ".py",
   "mimetype": "text/x-python",
   "name": "python",
   "nbconvert_exporter": "python",
   "pygments_lexer": "ipython3",
   "version": "3.11.7"
  }
 },
 "nbformat": 4,
 "nbformat_minor": 5
}
